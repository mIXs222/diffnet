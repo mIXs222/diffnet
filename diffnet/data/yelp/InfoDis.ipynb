{
 "cells": [
  {
   "cell_type": "code",
   "execution_count": 22,
   "id": "compound-party",
   "metadata": {},
   "outputs": [],
   "source": [
    "import glob\n",
    "\n",
    "read_files = glob.glob(\"*.rating\")\n",
    "\n",
    "with open(\"yelp.rating\", \"w\") as outfile:\n",
    "    for f in read_files:\n",
    "        with open(f, \"r\") as infile:\n",
    "            outfile.write(infile.read())"
   ]
  },
  {
   "cell_type": "code",
   "execution_count": 2,
   "id": "unlike-saint",
   "metadata": {},
   "outputs": [],
   "source": [
    "from collections import defaultdict\n",
    "import numpy as np\n",
    "import scipy, scipy.sparse, scipy.sparse.linalg\n",
    "import matplotlib.pyplot as plt"
   ]
  },
  {
   "cell_type": "code",
   "execution_count": 4,
   "id": "authentic-sixth",
   "metadata": {
    "collapsed": true,
    "jupyter": {
     "outputs_hidden": true
    }
   },
   "outputs": [
    {
     "ename": "NameError",
     "evalue": "name 'defaultdict' is not defined",
     "output_type": "error",
     "traceback": [
      "\u001b[0;31m---------------------------------------------------------------------------\u001b[0m",
      "\u001b[0;31mNameError\u001b[0m                                 Traceback (most recent call last)",
      "\u001b[0;32m<ipython-input-4-bafe886b387e>\u001b[0m in \u001b[0;36m<module>\u001b[0;34m\u001b[0m\n\u001b[0;32m----> 1\u001b[0;31m \u001b[0mgraph\u001b[0m \u001b[0;34m=\u001b[0m \u001b[0mdefaultdict\u001b[0m\u001b[0;34m(\u001b[0m\u001b[0mlist\u001b[0m\u001b[0;34m)\u001b[0m\u001b[0;34m\u001b[0m\u001b[0;34m\u001b[0m\u001b[0m\n\u001b[0m\u001b[1;32m      2\u001b[0m \u001b[0musers_set\u001b[0m \u001b[0;34m=\u001b[0m \u001b[0mset\u001b[0m\u001b[0;34m(\u001b[0m\u001b[0;34m)\u001b[0m\u001b[0;34m\u001b[0m\u001b[0;34m\u001b[0m\u001b[0m\n\u001b[1;32m      3\u001b[0m \u001b[0;32mwith\u001b[0m \u001b[0mopen\u001b[0m\u001b[0;34m(\u001b[0m\u001b[0;34m'yelp.links'\u001b[0m\u001b[0;34m)\u001b[0m \u001b[0;32mas\u001b[0m \u001b[0mfile\u001b[0m\u001b[0;34m:\u001b[0m\u001b[0;34m\u001b[0m\u001b[0;34m\u001b[0m\u001b[0m\n\u001b[1;32m      4\u001b[0m     \u001b[0;32mfor\u001b[0m \u001b[0mline\u001b[0m \u001b[0;32min\u001b[0m \u001b[0mfile\u001b[0m\u001b[0;34m:\u001b[0m\u001b[0;34m\u001b[0m\u001b[0;34m\u001b[0m\u001b[0m\n\u001b[1;32m      5\u001b[0m         \u001b[0mnode_1\u001b[0m\u001b[0;34m,\u001b[0m \u001b[0mnode_2\u001b[0m\u001b[0;34m,\u001b[0m \u001b[0m_\u001b[0m \u001b[0;34m=\u001b[0m \u001b[0mmap\u001b[0m\u001b[0;34m(\u001b[0m\u001b[0mint\u001b[0m\u001b[0;34m,\u001b[0m \u001b[0mline\u001b[0m\u001b[0;34m.\u001b[0m\u001b[0mstrip\u001b[0m\u001b[0;34m(\u001b[0m\u001b[0;34m)\u001b[0m\u001b[0;34m.\u001b[0m\u001b[0msplit\u001b[0m\u001b[0;34m(\u001b[0m\u001b[0;34m'\\t'\u001b[0m\u001b[0;34m)\u001b[0m\u001b[0;34m)\u001b[0m\u001b[0;34m\u001b[0m\u001b[0;34m\u001b[0m\u001b[0m\n",
      "\u001b[0;31mNameError\u001b[0m: name 'defaultdict' is not defined"
     ]
    }
   ],
   "source": [
    "graph = defaultdict(list)\n",
    "users_set = set()\n",
    "with open('yelp.links') as file:\n",
    "    for line in file:\n",
    "        node_1, node_2, _ = map(int, line.strip().split('\\t'))\n",
    "        graph[node_1].append(node_2)\n",
    "        graph[node_2].append(node_1)\n",
    "        users_set.update([node_1, node_2])\n",
    "num_users = len(users_set)"
   ]
  },
  {
   "cell_type": "code",
   "execution_count": 66,
   "id": "configured-access",
   "metadata": {},
   "outputs": [],
   "source": [
    "items_set = set()\n",
    "with open('yelp.rating') as file:\n",
    "    for line in file:\n",
    "        user, item, _ = map(int, line.strip().split('\\t'))\n",
    "        items_set.add(item)\n",
    "num_items = len(items_set)\n",
    "item_idx_encode = dict(zip(sorted(list(items_set)), \n",
    "                           range(num_users, num_users+num_items)))\n",
    "with open('yelp.rating') as file:\n",
    "    for line in file:\n",
    "        user, item, _ = map(int, line.strip().split('\\t'))\n",
    "        item = item_idx_encode[item]\n",
    "        graph[user].append(item)\n",
    "        graph[item].append(user)"
   ]
  },
  {
   "cell_type": "code",
   "execution_count": 67,
   "id": "million-baghdad",
   "metadata": {},
   "outputs": [],
   "source": [
    "A = np.zeros((num_users+num_items, num_users+num_items))\n",
    "for node in graph:\n",
    "    for neighbor in graph[node]:\n",
    "        A[node][neighbor] = 1\n",
    "        A[neighbor][node] = 1"
   ]
  },
  {
   "cell_type": "code",
   "execution_count": 77,
   "id": "interested-grass",
   "metadata": {},
   "outputs": [],
   "source": [
    "A_sparse = scipy.sparse.csc_matrix(A)"
   ]
  },
  {
   "cell_type": "code",
   "execution_count": 81,
   "id": "front-exercise",
   "metadata": {},
   "outputs": [
    {
     "name": "stdout",
     "output_type": "stream",
     "text": [
      "Stored 'A_sparse' (csc_matrix)\n"
     ]
    }
   ],
   "source": [
    "%store A_sparse"
   ]
  },
  {
   "cell_type": "code",
   "execution_count": 3,
   "id": "tribal-broadway",
   "metadata": {},
   "outputs": [],
   "source": [
    "%store -r A_sparse"
   ]
  },
  {
   "cell_type": "code",
   "execution_count": 4,
   "id": "unexpected-runner",
   "metadata": {},
   "outputs": [],
   "source": [
    "eig_val, eig_vec = scipy.sparse.linalg.eigs(A_sparse, k=1)"
   ]
  },
  {
   "cell_type": "code",
   "execution_count": 5,
   "id": "guilty-athens",
   "metadata": {},
   "outputs": [],
   "source": [
    "edge_score = eig_vec@eig_vec.T"
   ]
  },
  {
   "cell_type": "code",
   "execution_count": 6,
   "id": "parental-contrast",
   "metadata": {},
   "outputs": [],
   "source": [
    "edge_score = edge_score.real"
   ]
  },
  {
   "cell_type": "code",
   "execution_count": 7,
   "id": "baking-deputy",
   "metadata": {},
   "outputs": [],
   "source": [
    "edge_score = edge_score.astype('float32')"
   ]
  },
  {
   "cell_type": "code",
   "execution_count": 8,
   "id": "statutory-store",
   "metadata": {},
   "outputs": [
    {
     "data": {
      "text/plain": [
       "5.485221e-17"
      ]
     },
     "execution_count": 8,
     "metadata": {},
     "output_type": "execute_result"
    }
   ],
   "source": [
    "edge_score.min()"
   ]
  },
  {
   "cell_type": "code",
   "execution_count": 11,
   "id": "korean-insider",
   "metadata": {},
   "outputs": [],
   "source": [
    "edge_score_min = 5.485221e-17"
   ]
  },
  {
   "cell_type": "code",
   "execution_count": 9,
   "id": "random-broadcast",
   "metadata": {},
   "outputs": [
    {
     "data": {
      "text/plain": [
       "0.01299853"
      ]
     },
     "execution_count": 9,
     "metadata": {},
     "output_type": "execute_result"
    }
   ],
   "source": [
    "edge_score.max()"
   ]
  },
  {
   "cell_type": "code",
   "execution_count": 12,
   "id": "adult-dress",
   "metadata": {},
   "outputs": [],
   "source": [
    "edge_score_max = 0.01299853"
   ]
  },
  {
   "cell_type": "code",
   "execution_count": 14,
   "id": "aggressive-legend",
   "metadata": {},
   "outputs": [],
   "source": [
    "edge_score = (edge_score - edge_score_min)/(edge_score_max - edge_score_min)"
   ]
  },
  {
   "cell_type": "code",
   "execution_count": 15,
   "id": "spectacular-resident",
   "metadata": {},
   "outputs": [],
   "source": [
    "import h5py"
   ]
  },
  {
   "cell_type": "code",
   "execution_count": 16,
   "id": "foster-provincial",
   "metadata": {},
   "outputs": [],
   "source": [
    "with h5py.File('yelp_edge_score.h5', 'w') as hf:\n",
    "    hf.create_dataset(\"yelp_edge_score\",  data=edge_score)"
   ]
  },
  {
   "cell_type": "code",
   "execution_count": null,
   "id": "controlling-saying",
   "metadata": {},
   "outputs": [],
   "source": []
  }
 ],
 "metadata": {
  "kernelspec": {
   "display_name": "Python 3",
   "language": "python",
   "name": "python3"
  },
  "language_info": {
   "codemirror_mode": {
    "name": "ipython",
    "version": 3
   },
   "file_extension": ".py",
   "mimetype": "text/x-python",
   "name": "python",
   "nbconvert_exporter": "python",
   "pygments_lexer": "ipython3",
   "version": "3.7.9"
  }
 },
 "nbformat": 4,
 "nbformat_minor": 5
}
