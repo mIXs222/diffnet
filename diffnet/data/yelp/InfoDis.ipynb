{
 "cells": [
  {
   "cell_type": "code",
   "execution_count": 1,
   "id": "outdoor-pursuit",
   "metadata": {},
   "outputs": [],
   "source": [
    "import glob\n",
    "\n",
    "read_files = glob.glob(\"*.rating\")\n",
    "\n",
    "with open(\"yelp.rating\", \"w\") as outfile:\n",
    "    for f in read_files:\n",
    "        with open(f, \"r\") as infile:\n",
    "            outfile.write(infile.read())"
   ]
  },
  {
   "cell_type": "code",
   "execution_count": 2,
   "id": "powered-bridges",
   "metadata": {},
   "outputs": [],
   "source": [
    "from collections import defaultdict\n",
    "import numpy as np\n",
    "import scipy, scipy.sparse, scipy.sparse.linalg\n",
    "import matplotlib.pyplot as plt"
   ]
  },
  {
   "cell_type": "code",
   "execution_count": 3,
   "id": "vulnerable-victorian",
   "metadata": {},
   "outputs": [],
   "source": [
    "graph = defaultdict(list)\n",
    "users_set = set()\n",
    "with open('yelp.links') as file:\n",
    "    for line in file:\n",
    "        node_1, node_2, _ = map(int, line.strip().split('\\t'))\n",
    "        graph[node_1].append(node_2)\n",
    "        graph[node_2].append(node_1)\n",
    "        users_set.update([node_1, node_2])\n",
    "num_users = len(users_set)"
   ]
  },
  {
   "cell_type": "code",
   "execution_count": 15,
   "id": "built-phrase",
   "metadata": {},
   "outputs": [
    {
     "name": "stdout",
     "output_type": "stream",
     "text": [
      "For yelp dataset, there are: 17237 users.\n"
     ]
    }
   ],
   "source": [
    "print(\"For yelp dataset, there are:\", num_users, \"users.\")"
   ]
  },
  {
   "cell_type": "code",
   "execution_count": 4,
   "id": "synthetic-header",
   "metadata": {},
   "outputs": [],
   "source": [
    "items_set = set()\n",
    "with open('yelp.rating') as file:\n",
    "    for line in file:\n",
    "        user, item, _ = map(int, line.strip().split('\\t'))\n",
    "        items_set.add(item)\n",
    "num_items = len(items_set)\n",
    "item_idx_encode = dict(zip(sorted(list(items_set)), \n",
    "                           range(num_users, num_users+num_items)))\n",
    "with open('yelp.rating') as file:\n",
    "    for line in file:\n",
    "        user, item, _ = map(int, line.strip().split('\\t'))\n",
    "        item = item_idx_encode[item]\n",
    "        graph[user].append(item)\n",
    "        graph[item].append(user)"
   ]
  },
  {
   "cell_type": "code",
   "execution_count": 37,
   "id": "hired-denmark",
   "metadata": {},
   "outputs": [
    {
     "name": "stdout",
     "output_type": "stream",
     "text": [
      "For yelp dataset, there are: 37378 items.\n"
     ]
    }
   ],
   "source": [
    "print(\"For yelp dataset, there are:\", num_items, \"items.\")"
   ]
  },
  {
   "cell_type": "code",
   "execution_count": 5,
   "id": "spread-kruger",
   "metadata": {},
   "outputs": [],
   "source": [
    "A = np.zeros((num_users+num_items, num_users+num_items))\n",
    "for node in graph:\n",
    "    for neighbor in graph[node]:\n",
    "        A[node][neighbor] = 1\n",
    "        A[neighbor][node] = 1"
   ]
  },
  {
   "cell_type": "code",
   "execution_count": 6,
   "id": "extensive-wings",
   "metadata": {},
   "outputs": [],
   "source": [
    "A_sparse = scipy.sparse.csc_matrix(A)"
   ]
  },
  {
   "cell_type": "code",
   "execution_count": 7,
   "id": "loaded-jaguar",
   "metadata": {},
   "outputs": [],
   "source": [
    "eig_val, eig_vec = scipy.sparse.linalg.eigs(A_sparse, k=1)"
   ]
  },
  {
   "cell_type": "code",
   "execution_count": 22,
   "id": "arranged-brisbane",
   "metadata": {},
   "outputs": [],
   "source": [
    "import pickle\n",
    "\n",
    "pickle.dump(eig_vec.real, open('eigen_vector.p', 'wb'))\n",
    "pickle.dump(item_idx_encode, open('item_idx_encode.p', 'wb'))"
   ]
  },
  {
   "cell_type": "code",
   "execution_count": 33,
   "id": "recovered-rubber",
   "metadata": {},
   "outputs": [],
   "source": [
    "# Normalization for eigen-score\n",
    "\n",
    "edge_score_min=(np.abs(eig_vec).min())**2\n",
    "edge_score_max=(np.abs(eig_vec).max())**2"
   ]
  },
  {
   "cell_type": "code",
   "execution_count": 48,
   "id": "stone-victor",
   "metadata": {},
   "outputs": [],
   "source": [
    "# the original item_vector has 38342 items, but we only used 37378 of them\n",
    "item_vector = np.load(\"old_item_vector.npy\")\n",
    "new_item_vector = []\n",
    "for i in range(len(item_vector)):\n",
    "    if i in items_set:\n",
    "        new_item_vector.append(item_vector[i])\n",
    "new_item_vector = np.array(new_item_vector)\n",
    "with open('item_vector.npy', 'wb') as f:\n",
    "    np.save(f, new_item_vector)"
   ]
  },
  {
   "cell_type": "code",
   "execution_count": 46,
   "id": "greater-league",
   "metadata": {},
   "outputs": [
    {
     "data": {
      "text/plain": [
       "(37378, 150)"
      ]
     },
     "execution_count": 46,
     "metadata": {},
     "output_type": "execute_result"
    }
   ],
   "source": [
    "new_item_vector.shape"
   ]
  }
 ],
 "metadata": {
  "kernelspec": {
   "display_name": "Python 3",
   "language": "python",
   "name": "python3"
  },
  "language_info": {
   "codemirror_mode": {
    "name": "ipython",
    "version": 3
   },
   "file_extension": ".py",
   "mimetype": "text/x-python",
   "name": "python",
   "nbconvert_exporter": "python",
   "pygments_lexer": "ipython3",
   "version": "3.7.9"
  }
 },
 "nbformat": 4,
 "nbformat_minor": 5
}
