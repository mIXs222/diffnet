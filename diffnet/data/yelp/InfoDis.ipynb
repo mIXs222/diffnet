{
 "cells": [
  {
   "cell_type": "code",
   "execution_count": 1,
   "id": "quantitative-pavilion",
   "metadata": {},
   "outputs": [],
   "source": [
    "import glob\n",
    "\n",
    "read_files = glob.glob(\"*.rating\")\n",
    "\n",
    "with open(\"yelp.rating\", \"w\") as outfile:\n",
    "    for f in read_files:\n",
    "        with open(f, \"r\") as infile:\n",
    "            outfile.write(infile.read())"
   ]
  },
  {
   "cell_type": "code",
   "execution_count": 2,
   "id": "alpha-daisy",
   "metadata": {},
   "outputs": [],
   "source": [
    "from collections import defaultdict\n",
    "import numpy as np\n",
    "import scipy, scipy.sparse, scipy.sparse.linalg\n",
    "import matplotlib.pyplot as plt"
   ]
  },
  {
   "cell_type": "code",
   "execution_count": 3,
   "id": "greek-brick",
   "metadata": {},
   "outputs": [],
   "source": [
    "graph = defaultdict(list)\n",
    "users_set = set()\n",
    "with open('yelp.links') as file:\n",
    "    for line in file:\n",
    "        node_1, node_2, _ = map(int, line.strip().split('\\t'))\n",
    "        graph[node_1].append(node_2)\n",
    "        graph[node_2].append(node_1)\n",
    "        users_set.update([node_1, node_2])\n",
    "num_users = len(users_set)"
   ]
  },
  {
   "cell_type": "code",
   "execution_count": 15,
   "id": "valued-defeat",
   "metadata": {},
   "outputs": [
    {
     "name": "stdout",
     "output_type": "stream",
     "text": [
      "For yelp dataset, there are: 17237 users.\n"
     ]
    }
   ],
   "source": [
    "print(\"For yelp dataset, there are:\", num_users, \"users.\")"
   ]
  },
  {
   "cell_type": "code",
   "execution_count": 4,
   "id": "orange-confidentiality",
   "metadata": {},
   "outputs": [],
   "source": [
    "items_set = set()\n",
    "with open('yelp.rating') as file:\n",
    "    for line in file:\n",
    "        user, item, _ = map(int, line.strip().split('\\t'))\n",
    "        items_set.add(item)\n",
    "num_items = len(items_set)\n",
    "item_idx_encode = dict(zip(sorted(list(items_set)), \n",
    "                           range(num_users, num_users+num_items)))\n",
    "with open('yelp.rating') as file:\n",
    "    for line in file:\n",
    "        user, item, _ = map(int, line.strip().split('\\t'))\n",
    "        item = item_idx_encode[item]\n",
    "        graph[user].append(item)\n",
    "        graph[item].append(user)"
   ]
  },
  {
   "cell_type": "code",
   "execution_count": 37,
   "id": "better-somalia",
   "metadata": {},
   "outputs": [
    {
     "name": "stdout",
     "output_type": "stream",
     "text": [
      "For yelp dataset, there are: 37378 items.\n"
     ]
    }
   ],
   "source": [
    "print(\"For yelp dataset, there are:\", num_items, \"items.\")"
   ]
  },
  {
   "cell_type": "code",
   "execution_count": 5,
   "id": "parliamentary-complement",
   "metadata": {},
   "outputs": [],
   "source": [
    "A = np.zeros((num_users+num_items, num_users+num_items))\n",
    "for node in graph:\n",
    "    for neighbor in graph[node]:\n",
    "        A[node][neighbor] = 1\n",
    "        A[neighbor][node] = 1"
   ]
  },
  {
   "cell_type": "code",
   "execution_count": 6,
   "id": "lined-portland",
   "metadata": {},
   "outputs": [],
   "source": [
    "A_sparse = scipy.sparse.csc_matrix(A)"
   ]
  },
  {
   "cell_type": "code",
   "execution_count": 7,
   "id": "blond-wrestling",
   "metadata": {},
   "outputs": [],
   "source": [
    "eig_val, eig_vec = scipy.sparse.linalg.eigs(A_sparse, k=1)"
   ]
  },
  {
   "cell_type": "code",
   "execution_count": 58,
   "id": "illegal-section",
   "metadata": {},
   "outputs": [],
   "source": [
    "eig_vec = np.abs(eig_vec)"
   ]
  },
  {
   "cell_type": "code",
   "execution_count": 59,
   "id": "prescription-wheel",
   "metadata": {},
   "outputs": [],
   "source": [
    "import pickle\n",
    "\n",
    "pickle.dump(eig_vec.real, open('eigen_vector.p', 'wb'))\n",
    "pickle.dump(item_idx_encode, open('item_idx_encode.p', 'wb'))"
   ]
  },
  {
   "cell_type": "code",
   "execution_count": 33,
   "id": "amateur-pottery",
   "metadata": {},
   "outputs": [],
   "source": [
    "# Normalization for eigen-score\n",
    "\n",
    "edge_score_min=(np.abs(eig_vec).min())**2\n",
    "edge_score_max=(np.abs(eig_vec).max())**2"
   ]
  },
  {
   "cell_type": "code",
   "execution_count": 48,
   "id": "constant-galaxy",
   "metadata": {},
   "outputs": [],
   "source": [
    "# the original item_vector has 38342 items, but we only used 37378 of them\n",
    "item_vector = np.load(\"old_item_vector.npy\")\n",
    "new_item_vector = []\n",
    "for i in range(len(item_vector)):\n",
    "    if i in items_set:\n",
    "        new_item_vector.append(item_vector[i])\n",
    "new_item_vector = np.array(new_item_vector)\n",
    "with open('item_vector.npy', 'wb') as f:\n",
    "    np.save(f, new_item_vector)"
   ]
  },
  {
   "cell_type": "code",
   "execution_count": 57,
   "id": "nearby-template",
   "metadata": {},
   "outputs": [
    {
     "name": "stderr",
     "output_type": "stream",
     "text": [
      "/anaconda3/lib/python3.7/site-packages/numpy/lib/histograms.py:851: ComplexWarning: Casting complex values to real discards the imaginary part\n",
      "  indices = f_indices.astype(np.intp)\n",
      "/anaconda3/lib/python3.7/site-packages/numpy/core/_asarray.py:83: ComplexWarning: Casting complex values to real discards the imaginary part\n",
      "  return array(a, dtype, copy=False, order=order)\n",
      "/anaconda3/lib/python3.7/site-packages/matplotlib/transforms.py:1966: ComplexWarning: Casting complex values to real discards the imaginary part\n",
      "  x, y = float(x), float(y)\n"
     ]
    },
    {
     "data": {
      "text/plain": [
       "(array([1.0000e+00, 3.0000e+00, 3.0000e+00, 1.3000e+01, 2.0000e+01,\n",
       "        4.3000e+01, 9.0000e+01, 2.5400e+02, 7.4200e+02, 5.3446e+04]),\n",
       " array([-1.14011094e-01+0.j, -1.02609986e-01+0.j, -9.12088769e-02+0.j,\n",
       "        -7.98077682e-02+0.j, -6.84066595e-02+0.j, -5.70055508e-02+0.j,\n",
       "        -4.56044421e-02+0.j, -3.42033335e-02+0.j, -2.28022248e-02+0.j,\n",
       "        -1.14011161e-02+0.j, -7.40622770e-09+0.j]),\n",
       " <BarContainer object of 10 artists>)"
      ]
     },
     "execution_count": 57,
     "metadata": {},
     "output_type": "execute_result"
    },
    {
     "data": {
      "image/png": "[encoded data removed]",
      "text/plain": [
       "<Figure size 432x288 with 1 Axes>"
      ]
     },
     "metadata": {
      "needs_background": "light"
     },
     "output_type": "display_data"
    }
   ],
   "source": [
    "import matplotlib.pyplot as plt\n",
    "\n",
    "plt.hist(eig_vec)"
   ]
  },
  {
   "cell_type": "code",
   "execution_count": 60,
   "id": "higher-salmon",
   "metadata": {},
   "outputs": [
    {
     "data": {
      "text/plain": [
       "array([[2.72809452e-07],\n",
       "       [1.17464727e-06],\n",
       "       [1.50737570e-05]])"
      ]
     },
     "execution_count": 60,
     "metadata": {},
     "output_type": "execute_result"
    }
   ],
   "source": [
    "eig_vec[10]*eig_vec[[1,2,3]]"
   ]
  }
 ],
 "metadata": {
  "kernelspec": {
   "display_name": "Python 3",
   "language": "python",
   "name": "python3"
  },
  "language_info": {
   "codemirror_mode": {
    "name": "ipython",
    "version": 3
   },
   "file_extension": ".py",
   "mimetype": "text/x-python",
   "name": "python",
   "nbconvert_exporter": "python",
   "pygments_lexer": "ipython3",
   "version": "3.7.9"
  }
 },
 "nbformat": 4,
 "nbformat_minor": 5
}
