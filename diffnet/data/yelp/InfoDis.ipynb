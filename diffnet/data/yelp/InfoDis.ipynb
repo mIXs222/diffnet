{
 "cells": [
  {
   "cell_type": "code",
   "execution_count": 22,
   "id": "sexual-highway",
   "metadata": {},
   "outputs": [],
   "source": [
    "import glob\n",
    "\n",
    "read_files = glob.glob(\"*.rating\")\n",
    "\n",
    "with open(\"yelp.rating\", \"w\") as outfile:\n",
    "    for f in read_files:\n",
    "        with open(f, \"r\") as infile:\n",
    "            outfile.write(infile.read())"
   ]
  },
  {
   "cell_type": "code",
   "execution_count": 76,
   "id": "adjusted-video",
   "metadata": {},
   "outputs": [],
   "source": [
    "from collections import defaultdict\n",
    "import numpy as np\n",
    "import scipy, scipy.sparse, scipy.sparse.linalg"
   ]
  },
  {
   "cell_type": "code",
   "execution_count": 4,
   "id": "third-mustang",
   "metadata": {},
   "outputs": [
    {
     "ename": "NameError",
     "evalue": "name 'defaultdict' is not defined",
     "output_type": "error",
     "traceback": [
      "\u001b[0;31m---------------------------------------------------------------------------\u001b[0m",
      "\u001b[0;31mNameError\u001b[0m                                 Traceback (most recent call last)",
      "\u001b[0;32m<ipython-input-4-bafe886b387e>\u001b[0m in \u001b[0;36m<module>\u001b[0;34m\u001b[0m\n\u001b[0;32m----> 1\u001b[0;31m \u001b[0mgraph\u001b[0m \u001b[0;34m=\u001b[0m \u001b[0mdefaultdict\u001b[0m\u001b[0;34m(\u001b[0m\u001b[0mlist\u001b[0m\u001b[0;34m)\u001b[0m\u001b[0;34m\u001b[0m\u001b[0;34m\u001b[0m\u001b[0m\n\u001b[0m\u001b[1;32m      2\u001b[0m \u001b[0musers_set\u001b[0m \u001b[0;34m=\u001b[0m \u001b[0mset\u001b[0m\u001b[0;34m(\u001b[0m\u001b[0;34m)\u001b[0m\u001b[0;34m\u001b[0m\u001b[0;34m\u001b[0m\u001b[0m\n\u001b[1;32m      3\u001b[0m \u001b[0;32mwith\u001b[0m \u001b[0mopen\u001b[0m\u001b[0;34m(\u001b[0m\u001b[0;34m'yelp.links'\u001b[0m\u001b[0;34m)\u001b[0m \u001b[0;32mas\u001b[0m \u001b[0mfile\u001b[0m\u001b[0;34m:\u001b[0m\u001b[0;34m\u001b[0m\u001b[0;34m\u001b[0m\u001b[0m\n\u001b[1;32m      4\u001b[0m     \u001b[0;32mfor\u001b[0m \u001b[0mline\u001b[0m \u001b[0;32min\u001b[0m \u001b[0mfile\u001b[0m\u001b[0;34m:\u001b[0m\u001b[0;34m\u001b[0m\u001b[0;34m\u001b[0m\u001b[0m\n\u001b[1;32m      5\u001b[0m         \u001b[0mnode_1\u001b[0m\u001b[0;34m,\u001b[0m \u001b[0mnode_2\u001b[0m\u001b[0;34m,\u001b[0m \u001b[0m_\u001b[0m \u001b[0;34m=\u001b[0m \u001b[0mmap\u001b[0m\u001b[0;34m(\u001b[0m\u001b[0mint\u001b[0m\u001b[0;34m,\u001b[0m \u001b[0mline\u001b[0m\u001b[0;34m.\u001b[0m\u001b[0mstrip\u001b[0m\u001b[0;34m(\u001b[0m\u001b[0;34m)\u001b[0m\u001b[0;34m.\u001b[0m\u001b[0msplit\u001b[0m\u001b[0;34m(\u001b[0m\u001b[0;34m'\\t'\u001b[0m\u001b[0;34m)\u001b[0m\u001b[0;34m)\u001b[0m\u001b[0;34m\u001b[0m\u001b[0;34m\u001b[0m\u001b[0m\n",
      "\u001b[0;31mNameError\u001b[0m: name 'defaultdict' is not defined"
     ]
    }
   ],
   "source": [
    "graph = defaultdict(list)\n",
    "users_set = set()\n",
    "with open('yelp.links') as file:\n",
    "    for line in file:\n",
    "        node_1, node_2, _ = map(int, line.strip().split('\\t'))\n",
    "        graph[node_1].append(node_2)\n",
    "        graph[node_2].append(node_1)\n",
    "        users_set.update([node_1, node_2])\n",
    "num_users = len(users_set)"
   ]
  },
  {
   "cell_type": "code",
   "execution_count": 66,
   "id": "brutal-melbourne",
   "metadata": {},
   "outputs": [],
   "source": [
    "items_set = set()\n",
    "with open('yelp.rating') as file:\n",
    "    for line in file:\n",
    "        user, item, _ = map(int, line.strip().split('\\t'))\n",
    "        items_set.add(item)\n",
    "num_items = len(items_set)\n",
    "item_idx_encode = dict(zip(sorted(list(items_set)), \n",
    "                           range(num_users, num_users+num_items)))\n",
    "with open('yelp.rating') as file:\n",
    "    for line in file:\n",
    "        user, item, _ = map(int, line.strip().split('\\t'))\n",
    "        item = item_idx_encode[item]\n",
    "        graph[user].append(item)\n",
    "        graph[item].append(user)"
   ]
  },
  {
   "cell_type": "code",
   "execution_count": 67,
   "id": "unlike-property",
   "metadata": {},
   "outputs": [],
   "source": [
    "A = np.zeros((num_users+num_items, num_users+num_items))\n",
    "for node in graph:\n",
    "    for neighbor in graph[node]:\n",
    "        A[node][neighbor] = 1\n",
    "        A[neighbor][node] = 1"
   ]
  },
  {
   "cell_type": "code",
   "execution_count": 77,
   "id": "intended-semester",
   "metadata": {},
   "outputs": [],
   "source": [
    "A_sparse = scipy.sparse.csc_matrix(A)"
   ]
  },
  {
   "cell_type": "code",
   "execution_count": 81,
   "id": "narrative-director",
   "metadata": {},
   "outputs": [
    {
     "name": "stdout",
     "output_type": "stream",
     "text": [
      "Stored 'A_sparse' (csc_matrix)\n"
     ]
    }
   ],
   "source": [
    "%store A_sparse"
   ]
  },
  {
   "cell_type": "code",
   "execution_count": 82,
   "id": "settled-motion",
   "metadata": {},
   "outputs": [],
   "source": [
    "eig_val, eig_vec = scipy.sparse.linalg.eigs(A_sparse, k=1)"
   ]
  },
  {
   "cell_type": "code",
   "execution_count": 3,
   "id": "lonely-semester",
   "metadata": {},
   "outputs": [
    {
     "ename": "NameError",
     "evalue": "name 'eig_vec' is not defined",
     "output_type": "error",
     "traceback": [
      "\u001b[0;31m---------------------------------------------------------------------------\u001b[0m",
      "\u001b[0;31mNameError\u001b[0m                                 Traceback (most recent call last)",
      "\u001b[0;32m<ipython-input-3-93c87266d5db>\u001b[0m in \u001b[0;36m<module>\u001b[0;34m\u001b[0m\n\u001b[0;32m----> 1\u001b[0;31m \u001b[0medge_score\u001b[0m \u001b[0;34m=\u001b[0m \u001b[0meig_vec\u001b[0m\u001b[0;34m@\u001b[0m\u001b[0meig_vec\u001b[0m\u001b[0;34m.\u001b[0m\u001b[0mT\u001b[0m\u001b[0;34m\u001b[0m\u001b[0;34m\u001b[0m\u001b[0m\n\u001b[0m",
      "\u001b[0;31mNameError\u001b[0m: name 'eig_vec' is not defined"
     ]
    }
   ],
   "source": [
    "edge_score = eig_vec@eig_vec.T"
   ]
  },
  {
   "cell_type": "code",
   "execution_count": 1,
   "id": "norman-morrison",
   "metadata": {},
   "outputs": [
    {
     "name": "stderr",
     "output_type": "stream",
     "text": [
      "UsageError: Unknown variable 'edge_score'\n"
     ]
    }
   ],
   "source": [
    "%store edge_score"
   ]
  },
  {
   "cell_type": "code",
   "execution_count": 2,
   "id": "sporting-threshold",
   "metadata": {},
   "outputs": [
    {
     "ename": "NameError",
     "evalue": "name 'edfe_score' is not defined",
     "output_type": "error",
     "traceback": [
      "\u001b[0;31m---------------------------------------------------------------------------\u001b[0m",
      "\u001b[0;31mNameError\u001b[0m                                 Traceback (most recent call last)",
      "\u001b[0;32m<ipython-input-2-809b28a529b6>\u001b[0m in \u001b[0;36m<module>\u001b[0;34m\u001b[0m\n\u001b[0;32m----> 1\u001b[0;31m \u001b[0medfe_score\u001b[0m\u001b[0;34m\u001b[0m\u001b[0;34m\u001b[0m\u001b[0m\n\u001b[0m",
      "\u001b[0;31mNameError\u001b[0m: name 'edfe_score' is not defined"
     ]
    }
   ],
   "source": [
    "edfe_score"
   ]
  }
 ],
 "metadata": {
  "kernelspec": {
   "display_name": "Python 3",
   "language": "python",
   "name": "python3"
  },
  "language_info": {
   "codemirror_mode": {
    "name": "ipython",
    "version": 3
   },
   "file_extension": ".py",
   "mimetype": "text/x-python",
   "name": "python",
   "nbconvert_exporter": "python",
   "pygments_lexer": "ipython3",
   "version": "3.7.9"
  }
 },
 "nbformat": 4,
 "nbformat_minor": 5
}
