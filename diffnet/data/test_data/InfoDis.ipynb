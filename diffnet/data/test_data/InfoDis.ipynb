{
 "cells": [
  {
   "cell_type": "code",
   "execution_count": 17,
   "id": "fancy-stopping",
   "metadata": {},
   "outputs": [],
   "source": [
    "import glob\n",
    "\n",
    "read_files = glob.glob(\"*.rating\")\n",
    "\n",
    "with open(\"test_data.rating\", \"w\") as outfile:\n",
    "    for f in read_files:\n",
    "        with open(f, \"r\") as infile:\n",
    "            outfile.write(infile.read())"
   ]
  },
  {
   "cell_type": "code",
   "execution_count": 2,
   "id": "invalid-connection",
   "metadata": {},
   "outputs": [],
   "source": [
    "from collections import defaultdict\n",
    "import numpy as np\n",
    "import scipy, scipy.sparse, scipy.sparse.linalg\n",
    "import matplotlib.pyplot as plt"
   ]
  },
  {
   "cell_type": "code",
   "execution_count": 13,
   "id": "forty-quebec",
   "metadata": {},
   "outputs": [],
   "source": [
    "graph = defaultdict(list)\n",
    "users_set = set()\n",
    "with open('test_data.links') as file:\n",
    "    for line in file:\n",
    "        node_1, node_2, _ = map(int, line.strip().split('\\t'))\n",
    "        graph[node_1].append(node_2)\n",
    "        graph[node_2].append(node_1)\n",
    "        users_set.update([node_1, node_2])\n",
    "num_users = len(users_set)"
   ]
  },
  {
   "cell_type": "code",
   "execution_count": 15,
   "id": "disturbed-richards",
   "metadata": {},
   "outputs": [
    {
     "name": "stdout",
     "output_type": "stream",
     "text": [
      "For this dataset, there are: 3 users.\n"
     ]
    }
   ],
   "source": [
    "print(\"For this dataset, there are:\", num_users, \"users.\")"
   ]
  },
  {
   "cell_type": "code",
   "execution_count": 18,
   "id": "above-savannah",
   "metadata": {},
   "outputs": [],
   "source": [
    "items_set = set()\n",
    "with open('test_data.rating') as file:\n",
    "    for line in file:\n",
    "        user, item, _ = map(int, line.strip().split('\\t'))\n",
    "        items_set.add(item)\n",
    "num_items = len(items_set)\n",
    "item_idx_encode = dict(zip(sorted(list(items_set)), \n",
    "                           range(num_users, num_users+num_items)))\n",
    "with open('test_data.rating') as file:\n",
    "    for line in file:\n",
    "        user, item, _ = map(int, line.strip().split('\\t'))\n",
    "        item = item_idx_encode[item]\n",
    "        graph[user].append(item)\n",
    "        graph[item].append(user)"
   ]
  },
  {
   "cell_type": "code",
   "execution_count": 19,
   "id": "continuous-fusion",
   "metadata": {},
   "outputs": [
    {
     "name": "stdout",
     "output_type": "stream",
     "text": [
      "For this dataset, there are: 5 items.\n"
     ]
    }
   ],
   "source": [
    "print(\"For this dataset, there are:\", num_items, \"items.\")"
   ]
  },
  {
   "cell_type": "code",
   "execution_count": 20,
   "id": "black-fighter",
   "metadata": {},
   "outputs": [],
   "source": [
    "A = np.zeros((num_users+num_items, num_users+num_items))\n",
    "for node in graph:\n",
    "    for neighbor in graph[node]:\n",
    "        A[node][neighbor] = 1\n",
    "        A[neighbor][node] = 1"
   ]
  },
  {
   "cell_type": "code",
   "execution_count": 21,
   "id": "electoral-termination",
   "metadata": {},
   "outputs": [],
   "source": [
    "A_sparse = scipy.sparse.csc_matrix(A)"
   ]
  },
  {
   "cell_type": "code",
   "execution_count": 22,
   "id": "crucial-metallic",
   "metadata": {},
   "outputs": [],
   "source": [
    "eig_val, eig_vec = scipy.sparse.linalg.eigs(A_sparse, k=1)"
   ]
  },
  {
   "cell_type": "code",
   "execution_count": 23,
   "id": "abandoned-russian",
   "metadata": {},
   "outputs": [],
   "source": [
    "eig_vec = np.abs(eig_vec)"
   ]
  },
  {
   "cell_type": "code",
   "execution_count": 24,
   "id": "double-conjunction",
   "metadata": {},
   "outputs": [],
   "source": [
    "import pickle\n",
    "\n",
    "pickle.dump(eig_vec.real, open('eigen_vector.p', 'wb'))\n",
    "pickle.dump(item_idx_encode, open('item_idx_encode.p', 'wb'))"
   ]
  },
  {
   "cell_type": "code",
   "execution_count": null,
   "id": "fifteen-finder",
   "metadata": {},
   "outputs": [],
   "source": []
  },
  {
   "cell_type": "code",
   "execution_count": null,
   "id": "amended-player",
   "metadata": {},
   "outputs": [],
   "source": []
  },
  {
   "cell_type": "code",
   "execution_count": null,
   "id": "architectural-destiny",
   "metadata": {},
   "outputs": [],
   "source": []
  },
  {
   "cell_type": "code",
   "execution_count": 49,
   "id": "champion-heritage",
   "metadata": {},
   "outputs": [],
   "source": [
    "tmp_hr_list, tmp_ndcg_list = [], []\n",
    "\n",
    "# sample testcase\n",
    "evaluate_index_dict = {2:[0,1]}\n",
    "evaluate_real_rating_matrix = [[0.5], [0.5]] # (positive prediction)\n",
    "evaluate_predict_rating_matrix = {2:[0.5673024, 0.5, 0.5673024, 0.5673024, 0.5, 0.5673024, \n",
    "                                     0.5673024, 0.48266914, 0.5673024, 0.48266914]} # (negative prediction)"
   ]
  },
  {
   "cell_type": "code",
   "execution_count": 50,
   "id": "activated-boating",
   "metadata": {},
   "outputs": [],
   "source": [
    "topK = 3\n",
    "num_procs = 1\n",
    "\n",
    "user_list = list(evaluate_index_dict.keys())\n",
    "batch_size = len(user_list) // num_procs\n",
    "\n",
    "hr_list, ndcg_list = [], []\n",
    "index = 0"
   ]
  },
  {
   "cell_type": "code",
   "execution_count": 53,
   "id": "forbidden-landscape",
   "metadata": {},
   "outputs": [
    {
     "ename": "TypeError",
     "evalue": "list indices must be integers or slices, not list",
     "output_type": "error",
     "traceback": [
      "\u001b[0;31m---------------------------------------------------------------------------\u001b[0m",
      "\u001b[0;31mTypeError\u001b[0m                                 Traceback (most recent call last)",
      "\u001b[0;32m<ipython-input-53-c1c6e2ee57a2>\u001b[0m in \u001b[0;36m<module>\u001b[0;34m\u001b[0m\n\u001b[1;32m      8\u001b[0m     \u001b[0;32mfor\u001b[0m \u001b[0mu\u001b[0m \u001b[0;32min\u001b[0m \u001b[0muser_list\u001b[0m\u001b[0;34m:\u001b[0m\u001b[0;34m\u001b[0m\u001b[0;34m\u001b[0m\u001b[0m\n\u001b[1;32m      9\u001b[0m         \u001b[0mreal_item_index_list\u001b[0m \u001b[0;34m=\u001b[0m \u001b[0mevaluate_index_dict\u001b[0m\u001b[0;34m[\u001b[0m\u001b[0mu\u001b[0m\u001b[0;34m]\u001b[0m\u001b[0;34m\u001b[0m\u001b[0;34m\u001b[0m\u001b[0m\n\u001b[0;32m---> 10\u001b[0;31m         \u001b[0mreal_item_rating_list\u001b[0m \u001b[0;34m=\u001b[0m \u001b[0mlist\u001b[0m\u001b[0;34m(\u001b[0m\u001b[0mnp\u001b[0m\u001b[0;34m.\u001b[0m\u001b[0mconcatenate\u001b[0m\u001b[0;34m(\u001b[0m\u001b[0mevaluate_real_rating_matrix\u001b[0m\u001b[0;34m[\u001b[0m\u001b[0mreal_item_index_list\u001b[0m\u001b[0;34m]\u001b[0m\u001b[0;34m)\u001b[0m\u001b[0;34m)\u001b[0m\u001b[0;34m\u001b[0m\u001b[0;34m\u001b[0m\u001b[0m\n\u001b[0m\u001b[1;32m     11\u001b[0m         \u001b[0mpositive_length\u001b[0m \u001b[0;34m=\u001b[0m \u001b[0mlen\u001b[0m\u001b[0;34m(\u001b[0m\u001b[0mreal_item_rating_list\u001b[0m\u001b[0;34m)\u001b[0m\u001b[0;34m\u001b[0m\u001b[0;34m\u001b[0m\u001b[0m\n\u001b[1;32m     12\u001b[0m         \u001b[0mtarget_length\u001b[0m \u001b[0;34m=\u001b[0m \u001b[0mmin\u001b[0m\u001b[0;34m(\u001b[0m\u001b[0mpositive_length\u001b[0m\u001b[0;34m,\u001b[0m \u001b[0mtopK\u001b[0m\u001b[0;34m)\u001b[0m\u001b[0;34m\u001b[0m\u001b[0;34m\u001b[0m\u001b[0m\n",
      "\u001b[0;31mTypeError\u001b[0m: list indices must be integers or slices, not list"
     ]
    }
   ],
   "source": [
    "for _ in range(num_procs):\n",
    "    if index + batch_size < len(user_list):\n",
    "        batch_user_list = user_list[index:index+batch_size]\n",
    "        index = index + batch_size\n",
    "    else:\n",
    "        batch_user_list = user_list[index:len(user_list)]\n",
    "        \n",
    "    for u in user_list:\n",
    "        real_item_index_list = evaluate_index_dict[u]\n",
    "        real_item_rating_list = list(np.concatenate(evaluate_real_rating_matrix[real_item_index_list]))\n",
    "        positive_length = len(real_item_rating_list)\n",
    "        target_length = min(positive_length, topK)\n",
    "\n",
    "        predict_rating_list = evaluate_predict_rating_matrix[u]\n",
    "        real_item_rating_list.extend(predict_rating_list)\n",
    "        sort_index = np.argsort(real_item_rating_list)\n",
    "        sort_index = sort_index[::-1]\n",
    "\n",
    "        user_hr_list = []\n",
    "        user_ndcg_list = []\n",
    "        hits_num = 0\n",
    "        for idx in range(topK):\n",
    "            ranking = sort_index[idx]\n",
    "            if ranking < positive_length:\n",
    "                hits_num += 1\n",
    "                user_hr_list.append(self.getHr(idx))\n",
    "                user_ndcg_list.append(self.getDcg(idx))\n",
    "\n",
    "        idcg = self.getIdcg(target_length)\n",
    "\n",
    "        tmp_hr = np.sum(user_hr_list) / target_length\n",
    "        tmp_ndcg = np.sum(user_ndcg_list) / idcg\n",
    "        tmp_hr_list.append(tmp_hr)\n",
    "        tmp_ndcg_list.append(tmp_ndcg)\n",
    "    \n",
    "    hr_list.extend(tmp_hr_list)\n",
    "    ndcg_list.extend(tmp_ndcg_list)"
   ]
  },
  {
   "cell_type": "code",
   "execution_count": null,
   "id": "based-karaoke",
   "metadata": {},
   "outputs": [],
   "source": []
  }
 ],
 "metadata": {
  "kernelspec": {
   "display_name": "Python 3",
   "language": "python",
   "name": "python3"
  },
  "language_info": {
   "codemirror_mode": {
    "name": "ipython",
    "version": 3
   },
   "file_extension": ".py",
   "mimetype": "text/x-python",
   "name": "python",
   "nbconvert_exporter": "python",
   "pygments_lexer": "ipython3",
   "version": "3.7.9"
  }
 },
 "nbformat": 4,
 "nbformat_minor": 5
}
