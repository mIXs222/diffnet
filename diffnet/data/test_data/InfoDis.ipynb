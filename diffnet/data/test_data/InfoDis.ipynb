{
 "cells": [
  {
   "cell_type": "code",
   "execution_count": 17,
   "id": "civil-silence",
   "metadata": {},
   "outputs": [],
   "source": [
    "import glob\n",
    "\n",
    "read_files = glob.glob(\"*.rating\")\n",
    "\n",
    "with open(\"test_data.rating\", \"w\") as outfile:\n",
    "    for f in read_files:\n",
    "        with open(f, \"r\") as infile:\n",
    "            outfile.write(infile.read())"
   ]
  },
  {
   "cell_type": "code",
   "execution_count": 2,
   "id": "dominant-allah",
   "metadata": {},
   "outputs": [],
   "source": [
    "from collections import defaultdict\n",
    "import numpy as np\n",
    "import scipy, scipy.sparse, scipy.sparse.linalg\n",
    "import matplotlib.pyplot as plt"
   ]
  },
  {
   "cell_type": "code",
   "execution_count": 13,
   "id": "third-imagination",
   "metadata": {},
   "outputs": [],
   "source": [
    "graph = defaultdict(list)\n",
    "users_set = set()\n",
    "with open('test_data.links') as file:\n",
    "    for line in file:\n",
    "        node_1, node_2, _ = map(int, line.strip().split('\\t'))\n",
    "        graph[node_1].append(node_2)\n",
    "        graph[node_2].append(node_1)\n",
    "        users_set.update([node_1, node_2])\n",
    "num_users = len(users_set)"
   ]
  },
  {
   "cell_type": "code",
   "execution_count": 15,
   "id": "adopted-clarity",
   "metadata": {},
   "outputs": [
    {
     "name": "stdout",
     "output_type": "stream",
     "text": [
      "For this dataset, there are: 3 users.\n"
     ]
    }
   ],
   "source": [
    "print(\"For this dataset, there are:\", num_users, \"users.\")"
   ]
  },
  {
   "cell_type": "code",
   "execution_count": 18,
   "id": "dietary-gilbert",
   "metadata": {},
   "outputs": [],
   "source": [
    "items_set = set()\n",
    "with open('test_data.rating') as file:\n",
    "    for line in file:\n",
    "        user, item, _ = map(int, line.strip().split('\\t'))\n",
    "        items_set.add(item)\n",
    "num_items = len(items_set)\n",
    "item_idx_encode = dict(zip(sorted(list(items_set)), \n",
    "                           range(num_users, num_users+num_items)))\n",
    "with open('test_data.rating') as file:\n",
    "    for line in file:\n",
    "        user, item, _ = map(int, line.strip().split('\\t'))\n",
    "        item = item_idx_encode[item]\n",
    "        graph[user].append(item)\n",
    "        graph[item].append(user)"
   ]
  },
  {
   "cell_type": "code",
   "execution_count": 19,
   "id": "empty-shipping",
   "metadata": {},
   "outputs": [
    {
     "name": "stdout",
     "output_type": "stream",
     "text": [
      "For this dataset, there are: 5 items.\n"
     ]
    }
   ],
   "source": [
    "print(\"For this dataset, there are:\", num_items, \"items.\")"
   ]
  },
  {
   "cell_type": "code",
   "execution_count": 20,
   "id": "unknown-atlas",
   "metadata": {},
   "outputs": [],
   "source": [
    "A = np.zeros((num_users+num_items, num_users+num_items))\n",
    "for node in graph:\n",
    "    for neighbor in graph[node]:\n",
    "        A[node][neighbor] = 1\n",
    "        A[neighbor][node] = 1"
   ]
  },
  {
   "cell_type": "code",
   "execution_count": 21,
   "id": "supposed-doctrine",
   "metadata": {},
   "outputs": [],
   "source": [
    "A_sparse = scipy.sparse.csc_matrix(A)"
   ]
  },
  {
   "cell_type": "code",
   "execution_count": 22,
   "id": "different-webcam",
   "metadata": {},
   "outputs": [],
   "source": [
    "eig_val, eig_vec = scipy.sparse.linalg.eigs(A_sparse, k=1)"
   ]
  },
  {
   "cell_type": "code",
   "execution_count": 23,
   "id": "signal-sarah",
   "metadata": {},
   "outputs": [],
   "source": [
    "eig_vec = np.abs(eig_vec)"
   ]
  },
  {
   "cell_type": "code",
   "execution_count": 24,
   "id": "fitted-berry",
   "metadata": {},
   "outputs": [],
   "source": [
    "import pickle\n",
    "\n",
    "pickle.dump(eig_vec.real, open('eigen_vector.p', 'wb'))\n",
    "pickle.dump(item_idx_encode, open('item_idx_encode.p', 'wb'))"
   ]
  },
  {
   "cell_type": "code",
   "execution_count": null,
   "id": "hindu-factory",
   "metadata": {},
   "outputs": [],
   "source": []
  }
 ],
 "metadata": {
  "kernelspec": {
   "display_name": "Python 3",
   "language": "python",
   "name": "python3"
  },
  "language_info": {
   "codemirror_mode": {
    "name": "ipython",
    "version": 3
   },
   "file_extension": ".py",
   "mimetype": "text/x-python",
   "name": "python",
   "nbconvert_exporter": "python",
   "pygments_lexer": "ipython3",
   "version": "3.7.9"
  }
 },
 "nbformat": 4,
 "nbformat_minor": 5
}
